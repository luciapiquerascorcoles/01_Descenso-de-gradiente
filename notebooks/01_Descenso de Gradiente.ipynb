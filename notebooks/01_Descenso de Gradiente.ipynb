{
 "cells": [
  {
   "cell_type": "markdown",
   "metadata": {},
   "source": [
    "# Regresión Logística y Descenso de Gradiente "
   ]
  },
  {
   "cell_type": "markdown",
   "metadata": {},
   "source": [
    "#### Lucía Piqueras Córcoles"
   ]
  },
  {
   "cell_type": "markdown",
   "metadata": {},
   "source": [
    "_Noviembre 2020_"
   ]
  },
  {
   "cell_type": "markdown",
   "metadata": {},
   "source": [
    "## Tabla de contenidos"
   ]
  },
  {
   "cell_type": "markdown",
   "metadata": {},
   "source": [
    "* [Objetivo](#Objetivo) \n",
    "* [Introducción](#Introducción) \n",
    "* [1. Carga de paquetes](#Carga-de-paquetes) \n",
    "* [2. Carga de datos](#Carga-de-datos) \n",
    "* [3. Visualización de los datos](#Visualización-de-los-datos)\n",
    "* [4. Definición de la función sigmoidea logística](#Definición-de-la-funcións-sigmoidea-logística)\n",
    "* [5. Cálculo de la función de coste y el gradiente](#Cálculo-de-la-función-de-coste-y-el-gradiente)\n",
    "* [6. Coste y gradiente en la inicialización](#Coste-y-gradiente-en-la-inicialización)\n",
    "* [7. Descenso de gradiente](#Descenso-de-gradiente)\n",
    "* [8. Visualización de la convergencia ](#Visualización-de-la-convergencia)\n",
    "* [9. Referencias](#Referencias)"
   ]
  },
  {
   "cell_type": "markdown",
   "metadata": {},
   "source": [
    "## Objetivo"
   ]
  },
  {
   "cell_type": "markdown",
   "metadata": {},
   "source": [
    "Con la siguiente práctica se pretende programar el descenso del gradiente con regresión logística, de manera manual, en base al archivo de datos `4_1_data.csv`."
   ]
  },
  {
   "attachments": {},
   "cell_type": "markdown",
   "metadata": {},
   "source": [
    "<img src = http://www.cs.us.es/~fsancho/images/2017-02/gds.gif>"
   ]
  },
  {
   "cell_type": "markdown",
   "metadata": {},
   "source": [
    "## Introducción"
   ]
  },
  {
   "cell_type": "markdown",
   "metadata": {},
   "source": [
    "El método de __optimización por descenso de gradiente__ sigue un proceso iterativo en el que, partiendo de una posición inicial dentro del dominio de la función, realiza desplazamientos en la dirección correcta hasta alcanzar el mínimo. Para poder llevar a cabo el proceso se necesita:\n",
    "\n",
    "- _La función objetivo a minimizar_: __(función de coste)__.\n",
    "\n",
    "- _La posición desde la que iniciar la búsqueda_: (valores de inicialización).\n",
    "\n",
    "- _La distancia_ __(step o learning rate)__ que se va a desplazar el algoritmo en cada iteración de búsqueda. Es importante escoger un learning rate adecuado en cada escenario. Si es muy pequeño, se tardará demasiado en llegar al mínimo y, si es demasiado grande, el algoritmo saltará de una región a otra pasando por encima del mínimo sin alcanzarlo.\n",
    "\n",
    "- _La dirección de búsqueda_ en la que se produce el desplazamiento. El algoritmo de descenso de gradiente se caracteriza porque emplea como dirección de búsqueda aquella en la que la función desciende en mayor medida. Esta dirección se corresponde con el valor negativo del gradiente de la función. __El gradiente de la función es el vector formado por las derivadas parciales de la función respecto a cada variable.__\n",
    "\n",
    "- _La tolerancia_: Al tratarse de un algoritmo iterativo, hay que indicar una regla de parada. Lo idóneo es que el algoritmo se detenga al encontrar el mínimo, pero como normalmente se desconoce cuál es, hay que conseguir que se pare lo más cerca posible. Una forma de cuantificar la proximidad al mínimo es controlar cuanto desciende el valor de la función entre iteraciones consecutivas. __Si el descenso es muy pequeño, significa que se encuentra muy cerca del valor__. La tolerancia se define como un valor tal que, si la diferencia en el descenso es menor o igual, se considera que se ha alcanzado el mínimo (el algoritmo converge). Una alternativa a calcular la distancia entre las dos iteraciones es medir la longitud del vector gradiente en cada iteración. Si su longitud es muy pequeña, también lo es la distancia al mínimo.\n",
    "\n",
    "- _Iteraciones máximas_: Si la posición de inicio en la búsqueda está muy alejada del mínimo de la función y el learning rate es muy pequeño, se pueden necesitar muchas iteraciones para alcanzarlo. Para evitar un proceso iterativo excesivamente largo, se suele establecer un número máximo de iteraciones permitidas. "
   ]
  },
  {
   "cell_type": "markdown",
   "metadata": {},
   "source": [
    "## 1. Carga de paquetes"
   ]
  },
  {
   "cell_type": "code",
   "execution_count": 176,
   "metadata": {},
   "outputs": [],
   "source": [
    "import numpy as np\n",
    "import pandas as pd\n",
    "import seaborn as sns\n",
    "import matplotlib.pyplot as plt\n",
    "%matplotlib inline"
   ]
  },
  {
   "cell_type": "markdown",
   "metadata": {},
   "source": [
    "## 2. Carga de datos"
   ]
  },
  {
   "cell_type": "code",
   "execution_count": 177,
   "metadata": {},
   "outputs": [],
   "source": [
    "file_path = (\"../data/raw/4_1_data.csv\")"
   ]
  },
  {
   "cell_type": "code",
   "execution_count": 178,
   "metadata": {},
   "outputs": [
    {
     "data": {
      "text/html": [
       "<div>\n",
       "<style scoped>\n",
       "    .dataframe tbody tr th:only-of-type {\n",
       "        vertical-align: middle;\n",
       "    }\n",
       "\n",
       "    .dataframe tbody tr th {\n",
       "        vertical-align: top;\n",
       "    }\n",
       "\n",
       "    .dataframe thead th {\n",
       "        text-align: right;\n",
       "    }\n",
       "</style>\n",
       "<table border=\"1\" class=\"dataframe\">\n",
       "  <thead>\n",
       "    <tr style=\"text-align: right;\">\n",
       "      <th></th>\n",
       "      <th>score-1</th>\n",
       "      <th>score-2</th>\n",
       "      <th>label</th>\n",
       "    </tr>\n",
       "  </thead>\n",
       "  <tbody>\n",
       "    <tr>\n",
       "      <th>0</th>\n",
       "      <td>34.623660</td>\n",
       "      <td>78.024693</td>\n",
       "      <td>0</td>\n",
       "    </tr>\n",
       "    <tr>\n",
       "      <th>1</th>\n",
       "      <td>30.286711</td>\n",
       "      <td>43.894998</td>\n",
       "      <td>0</td>\n",
       "    </tr>\n",
       "    <tr>\n",
       "      <th>2</th>\n",
       "      <td>35.847409</td>\n",
       "      <td>72.902198</td>\n",
       "      <td>0</td>\n",
       "    </tr>\n",
       "    <tr>\n",
       "      <th>3</th>\n",
       "      <td>60.182599</td>\n",
       "      <td>86.308552</td>\n",
       "      <td>1</td>\n",
       "    </tr>\n",
       "    <tr>\n",
       "      <th>4</th>\n",
       "      <td>79.032736</td>\n",
       "      <td>75.344376</td>\n",
       "      <td>1</td>\n",
       "    </tr>\n",
       "    <tr>\n",
       "      <th>...</th>\n",
       "      <td>...</td>\n",
       "      <td>...</td>\n",
       "      <td>...</td>\n",
       "    </tr>\n",
       "    <tr>\n",
       "      <th>95</th>\n",
       "      <td>83.489163</td>\n",
       "      <td>48.380286</td>\n",
       "      <td>1</td>\n",
       "    </tr>\n",
       "    <tr>\n",
       "      <th>96</th>\n",
       "      <td>42.261701</td>\n",
       "      <td>87.103851</td>\n",
       "      <td>1</td>\n",
       "    </tr>\n",
       "    <tr>\n",
       "      <th>97</th>\n",
       "      <td>99.315009</td>\n",
       "      <td>68.775409</td>\n",
       "      <td>1</td>\n",
       "    </tr>\n",
       "    <tr>\n",
       "      <th>98</th>\n",
       "      <td>55.340018</td>\n",
       "      <td>64.931938</td>\n",
       "      <td>1</td>\n",
       "    </tr>\n",
       "    <tr>\n",
       "      <th>99</th>\n",
       "      <td>74.775893</td>\n",
       "      <td>89.529813</td>\n",
       "      <td>1</td>\n",
       "    </tr>\n",
       "  </tbody>\n",
       "</table>\n",
       "<p>100 rows × 3 columns</p>\n",
       "</div>"
      ],
      "text/plain": [
       "      score-1    score-2  label\n",
       "0   34.623660  78.024693      0\n",
       "1   30.286711  43.894998      0\n",
       "2   35.847409  72.902198      0\n",
       "3   60.182599  86.308552      1\n",
       "4   79.032736  75.344376      1\n",
       "..        ...        ...    ...\n",
       "95  83.489163  48.380286      1\n",
       "96  42.261701  87.103851      1\n",
       "97  99.315009  68.775409      1\n",
       "98  55.340018  64.931938      1\n",
       "99  74.775893  89.529813      1\n",
       "\n",
       "[100 rows x 3 columns]"
      ]
     },
     "execution_count": 178,
     "metadata": {},
     "output_type": "execute_result"
    }
   ],
   "source": [
    "data = pd.read_csv(file_path)\n",
    "data"
   ]
  },
  {
   "cell_type": "markdown",
   "metadata": {},
   "source": [
    "Viendo las columnas, tiene sentido pensar que el conjunto de datos hace referencia a las notas obtenidas por diferentes alumnos en dos examenes de una asignatura (por ejemplo), así como a su resultado final en la asignatura (label), variable binaria que indica si el alumno ha aprobado(1) o suspendido(0), en función de las notas e cada observación.  "
   ]
  },
  {
   "cell_type": "markdown",
   "metadata": {},
   "source": [
    "También, siguiendo el ejemplo visto en clase, podemos decir que somos el administrador de una universidad y queremos saber las posibilidades de admisión de cada solicitante en función de dos exámenes. En este caso, las dos columnas de `scores` son la puntuación de dos exámenes de solicitantes anteriores y `label`  indica si el solicitante obtuvo la admisión o no (1 - si obtuvo la admisión 0 - en caso contrario).\n",
    "\n",
    "- Contamos con los datos históricos de solicitantes anteriores que se pueden utilizar como datos de entrenamiento para la regresión logística.\n"
   ]
  },
  {
   "cell_type": "code",
   "execution_count": 179,
   "metadata": {},
   "outputs": [
    {
     "name": "stdout",
     "output_type": "stream",
     "text": [
      "<class 'pandas.core.frame.DataFrame'>\n",
      "RangeIndex: 100 entries, 0 to 99\n",
      "Data columns (total 3 columns):\n",
      " #   Column   Non-Null Count  Dtype  \n",
      "---  ------   --------------  -----  \n",
      " 0   score-1  100 non-null    float64\n",
      " 1   score-2  100 non-null    float64\n",
      " 2   label    100 non-null    int64  \n",
      "dtypes: float64(2), int64(1)\n",
      "memory usage: 2.5 KB\n"
     ]
    }
   ],
   "source": [
    "data.info()"
   ]
  },
  {
   "cell_type": "markdown",
   "metadata": {},
   "source": [
    "Comprobamos que las tres variables son de tipo numérico, las dos primeras son con decimales y la última de tipo entero binario (valores 0 y 1)."
   ]
  },
  {
   "cell_type": "markdown",
   "metadata": {},
   "source": [
    "## 3. Visualización de los datos"
   ]
  },
  {
   "cell_type": "markdown",
   "metadata": {},
   "source": [
    "Como se ha comentado, la idea es optimizar la función de coste mediante regresión logística y descenso de gradiente.\n",
    "Visualizamos los dos tipos de situaciones que tenemos, los que obtuvieron la admisión y los que no. "
   ]
  },
  {
   "cell_type": "markdown",
   "metadata": {},
   "source": [
    "Antes de nada, guardo las dos columnas con los datos de las calificaciones en el objeto `notas` y lo mismo con los resultados."
   ]
  },
  {
   "cell_type": "code",
   "execution_count": 180,
   "metadata": {},
   "outputs": [],
   "source": [
    "notas = data[['score-1', 'score-2']].values\n",
    "resultado = data['label'].values"
   ]
  },
  {
   "cell_type": "code",
   "execution_count": 181,
   "metadata": {},
   "outputs": [
    {
     "data": {
      "image/png": "[encoded data removed]",
      "text/plain": [
       "<Figure size 432x288 with 1 Axes>"
      ]
     },
     "metadata": {
      "needs_background": "light"
     },
     "output_type": "display_data"
    }
   ],
   "source": [
    "# Indico qué es suspenso y qué es aprobado\n",
    "# Con 100 y 1 definimos el tamaño de ambos conjuntos:\n",
    "admitido = (resultado == 1).reshape(100, 1)\n",
    "rechazado = (resultado == 0).reshape(100, 1)\n",
    "\n",
    "# definimos los ejes de los plots tanto para las notas aprobadas como suspensas de ambas columnas: \n",
    "\n",
    "ax = sns.scatterplot(x = notas[admitido[:, 0], 0], # x las notas aprobadas de la columna 1\n",
    "                     y = notas[admitido[:, 0], 1], # y las notas aprobadas de la columna 2\n",
    "                     marker = \"p\", # definimos los parámetros del marker (forma, color y tamaño)\n",
    "                     color = \"blue\",\n",
    "                     s = 60)\n",
    "sns.scatterplot(x = notas[rechazado[:, 0], 0], # notas suspensas de la columna 1\n",
    "                y = notas[rechazado[:, 0], 1], # notas suspensas de la columna 2\n",
    "                marker = \"x\", # definimos los parámetros del marker (forma, color y tamaño)\n",
    "                color = \"black\",\n",
    "                s = 60)\n",
    "\n",
    "ax.set(xlabel=\"Notas del examen 1\", ylabel=\"Notas del examen 2\")\n",
    "ax.legend([\"Admitido\", \"Denegado\"])\n",
    "plt.show();"
   ]
  },
  {
   "cell_type": "markdown",
   "metadata": {},
   "source": [
    "En este caso, tenemos dos variables predictoras (puntuaciones de dos exámenes) y `label` como variable de respuesta. La ecuación es la siguiente:\n",
    "\n",
    "ŷ = σ (w1x1 + w2x2 + b)\n",
    "\n",
    "Recordamos que queremos encontrar la w y b que __minimicen la función de coste__, no la función ŷ de probabilidad.\n"
   ]
  },
  {
   "cell_type": "markdown",
   "metadata": {},
   "source": [
    "## 4. Definición de la función sigmoidea logística"
   ]
  },
  {
   "cell_type": "markdown",
   "metadata": {},
   "source": [
    "Para implementar la regresión logística y poder entrenar un modelo que encuentre el límite de decisión óptimo que nos permita hacer una predicción futura, el primer paso es crear la __función sigmoidea__."
   ]
  },
  {
   "cell_type": "markdown",
   "metadata": {},
   "source": [
    "Simplemente escibo a mano su función matemática:"
   ]
  },
  {
   "cell_type": "code",
   "execution_count": 182,
   "metadata": {},
   "outputs": [],
   "source": [
    "def funcion_logistica(x):    \n",
    "    return 1/ (1 + np.exp(-x))"
   ]
  },
  {
   "cell_type": "code",
   "execution_count": 183,
   "metadata": {},
   "outputs": [
    {
     "data": {
      "text/plain": [
       "0.5"
      ]
     },
     "execution_count": 183,
     "metadata": {},
     "output_type": "execute_result"
    }
   ],
   "source": [
    "funcion_logistica(0)"
   ]
  },
  {
   "cell_type": "markdown",
   "metadata": {},
   "source": [
    "La función sigmoidea es una curva en forma de S que puede tomar cualquier número de valor real y asignar a un valor entre 0 y 1. La interpretación del resultado puede tomarse como la probabilidad de que el ejemplo de entrada se clasifique positivamente."
   ]
  },
  {
   "cell_type": "markdown",
   "metadata": {},
   "source": [
    "## 5. Cálculo de la Función de Coste y el Gradiente"
   ]
  },
  {
   "cell_type": "markdown",
   "metadata": {},
   "source": [
    "Minimizar la Función de Coste significa encontrar el valor óptimo o más bajo de theta y es para esto para lo que utilizamos el algoritmo de _Gradient Descent_:"
   ]
  },
  {
   "cell_type": "markdown",
   "metadata": {},
   "source": [
    "Consideremos que `m` es el número de training set (set de entrenamiento), `x` son las variables de entrada e `y` las variables a predecir."
   ]
  },
  {
   "cell_type": "code",
   "execution_count": 184,
   "metadata": {},
   "outputs": [],
   "source": [
    "# traducimos tal cual las funciones matemáticas a lenguaje python:\n",
    "def funcion_coste(theta, x, y): \n",
    "    m = len(y)  # número de observaciones\n",
    "    y_pred = funcion_logistica(np.dot(x , theta))  # sigma(h^0 * x)\n",
    "    error = (y * np.log(y_pred)) + ((1 - y) * np.log(1 - y_pred)) # la fórmula de la función de error\n",
    "    cost = -1 / m * sum(error) # coste = -1/m multiplicado por el sumatorio del error\n",
    "    gradient = 1 / m * np.dot(x.transpose(), (y_pred - y)) #\n",
    "    return cost[0] , gradient"
   ]
  },
  {
   "cell_type": "markdown",
   "metadata": {},
   "source": [
    "El resultado será la suma del \"error\" como la diferencia entre la probabilidad asignada por el modelo y lo que ocurre en realidad."
   ]
  },
  {
   "cell_type": "markdown",
   "metadata": {},
   "source": [
    "\n",
    "## 6. Inicialización "
   ]
  },
  {
   "cell_type": "markdown",
   "metadata": {},
   "source": [
    "Para ayudar a que el logaritmo de descenso de gradiente converja antes, aplicaremos la __normalización de las notas__ como _scaling method_."
   ]
  },
  {
   "cell_type": "code",
   "execution_count": 185,
   "metadata": {
    "scrolled": true
   },
   "outputs": [
    {
     "name": "stdout",
     "output_type": "stream",
     "text": [
      "Coste en la inicialización 0.693147180559946\n",
      "Gradiente en la inicialización: [[-0.1       ]\n",
      " [-0.28122914]\n",
      " [-0.25098615]]\n"
     ]
    }
   ],
   "source": [
    "# Normalizamos las notas:\n",
    "media_notas = np.mean(notas, axis=0) # media de los resultados del examen\n",
    "std_notas = np.std(notas, axis=0)  # desviacion típica de los resultados\n",
    "notas = (notas - media_notas) / std_notas \n",
    "\n",
    "filas = notas.shape[0] # nº filas\n",
    "columnas = notas.shape[1] # nº columns\n",
    "\n",
    "X = np.append(np.ones((filas, 1)), notas, axis=1) # añadimos término independiente compuesto por 1's\n",
    "y = resultado.reshape(filas, 1) # array con 0's y 1's. Resultado como matriz\n",
    "\n",
    "theta_init = np.zeros((columnas + 1, 1)) #  parametros iniciales. \n",
    "cost, gradient = funcion_coste(theta_init, X, y) # coste con el theta inicial\n",
    "\n",
    "print(\"Coste en la inicialización\", cost) # para que nos devuelva el coste (en la inicialización)\n",
    "print(\"Gradiente en la inicialización:\", gradient) # para que nos devuelva la gradiente (en la inicialización)"
   ]
  },
  {
   "cell_type": "markdown",
   "metadata": {},
   "source": [
    "Vemos que el Coste inicial es de 0.69 y que Gradiente en la inicialización  es de [[-0.1       ][-0.28122914][-0.25098615]]."
   ]
  },
  {
   "cell_type": "markdown",
   "metadata": {},
   "source": [
    "## 7. Descenso de gradiente"
   ]
  },
  {
   "cell_type": "markdown",
   "metadata": {},
   "source": [
    "Definimos la función de Descenso de Gradiente. Para ello, minimizamos la función de coste actualizando la ecuación tantas veces sea necesario hasta alcanzar la convergencia:"
   ]
  },
  {
   "cell_type": "code",
   "execution_count": 186,
   "metadata": {},
   "outputs": [],
   "source": [
    "# la función de descenso de gradiente está compuesta, a parte de x e y, por theta, alpha (tasa de aprendizaje) y el nº de iteraciones\n",
    "def descenso_gradiente(x, y, theta, alpha, iterations):\n",
    "    costs = [] # el que ocurra en cada caso\n",
    "    for i in range(iterations): # hacemos un for para que itere todos los datos y actualice la ecuación\n",
    "        cost, gradient = funcion_coste(theta, x, y) # el coste se reduce conforme va bajando\n",
    "        theta -= (alpha * gradient) # quitamos theta y multiplicamos la tasa de aprendizaje por el gradiente \n",
    "        costs.append(cost)\n",
    "    return theta, costs"
   ]
  },
  {
   "cell_type": "markdown",
   "metadata": {},
   "source": [
    "Podemos inicializar theta y el coste con una tasa de aprendizaje de 1 y 200 iteraciones:"
   ]
  },
  {
   "cell_type": "code",
   "execution_count": 187,
   "metadata": {},
   "outputs": [],
   "source": [
    "theta, costs = descenso_gradiente(X, y, theta_init, 1, 200)"
   ]
  },
  {
   "cell_type": "code",
   "execution_count": 188,
   "metadata": {},
   "outputs": [
    {
     "name": "stdout",
     "output_type": "stream",
     "text": [
      "Theta tras ejecutar el descenso de gradiente: [[1.50850586]\n",
      " [3.5468762 ]\n",
      " [3.29383709]]\n",
      "Coste resultante: 0.20489382036036602\n"
     ]
    }
   ],
   "source": [
    "print(\"Theta tras ejecutar el descenso de gradiente:\", theta)\n",
    "print(\"Coste resultante:\", costs[-1])"
   ]
  },
  {
   "cell_type": "markdown",
   "metadata": {},
   "source": [
    "Vemos como han cambiado ambos resultados desde la inicialización de los parámetros Siendo el coste bastante más bajo ( 0.20489382036036602)."
   ]
  },
  {
   "cell_type": "markdown",
   "metadata": {},
   "source": [
    "## 8. Visualización de la convergencia de la Función de Coste"
   ]
  },
  {
   "cell_type": "markdown",
   "metadata": {},
   "source": [
    "Visualizamos el paso anterior"
   ]
  },
  {
   "cell_type": "code",
   "execution_count": 189,
   "metadata": {
    "scrolled": false
   },
   "outputs": [
    {
     "data": {
      "image/png": "[encoded data removed]",
      "text/plain": [
       "<Figure size 432x288 with 1 Axes>"
      ]
     },
     "metadata": {
      "needs_background": "light"
     },
     "output_type": "display_data"
    }
   ],
   "source": [
    "plt.plot(costs) # usando matplotlib\n",
    "plt.xlabel(\"Iterations\")\n",
    "plt.ylabel(\"$J(\\Theta)$\")\n",
    "plt.title(\"Valores de la Función de Coste sobre las iteraciones del Descenso de Gradiente\");"
   ]
  },
  {
   "cell_type": "markdown",
   "metadata": {},
   "source": [
    "Vemos como el error cae desde el valor de inicialización 0.69 hasta 0.20, con una tasa de aprendizaje de 1 (alta) y pocas iteraciones (200). "
   ]
  },
  {
   "cell_type": "markdown",
   "metadata": {},
   "source": [
    "- Probamos con más iteraciones, y una tasa de aprendizaje menor:"
   ]
  },
  {
   "cell_type": "code",
   "execution_count": 190,
   "metadata": {},
   "outputs": [],
   "source": [
    "theta, costs = descenso_gradiente(X, y, theta_init, 0.70, 1000)"
   ]
  },
  {
   "cell_type": "code",
   "execution_count": 191,
   "metadata": {
    "scrolled": false
   },
   "outputs": [
    {
     "data": {
      "image/png": "[encoded data removed]",
      "text/plain": [
       "<Figure size 432x288 with 1 Axes>"
      ]
     },
     "metadata": {
      "needs_background": "light"
     },
     "output_type": "display_data"
    }
   ],
   "source": [
    "plt.plot(costs)\n",
    "plt.xlabel(\"Iterations\")\n",
    "plt.ylabel(\"$J(\\Theta)$\")\n",
    "plt.title(\"Cost Function\");"
   ]
  },
  {
   "cell_type": "markdown",
   "metadata": {},
   "source": [
    "Puede verse que __el error continúa cayendo pero mínimamente__. Como comentamos al inicio, esto en principio, implica que __el mínimo está cerca__, ya que el descenso en cada iteración es muy pequeño. "
   ]
  },
  {
   "cell_type": "markdown",
   "metadata": {},
   "source": [
    "Pruebo una vez más, para ver si se llega a algo menor:"
   ]
  },
  {
   "cell_type": "code",
   "execution_count": 192,
   "metadata": {},
   "outputs": [],
   "source": [
    "theta, costs = descenso_gradiente(X, y, theta_init, 0.8, 200)"
   ]
  },
  {
   "cell_type": "code",
   "execution_count": 193,
   "metadata": {},
   "outputs": [
    {
     "data": {
      "image/png": "[encoded data removed]",
      "text/plain": [
       "<Figure size 432x288 with 1 Axes>"
      ]
     },
     "metadata": {
      "needs_background": "light"
     },
     "output_type": "display_data"
    }
   ],
   "source": [
    "plt.plot(costs)\n",
    "plt.xlabel(\"Iterations\")\n",
    "plt.ylabel(\"$J(\\Theta)$\")\n",
    "plt.title(\"Cost Function\");"
   ]
  },
  {
   "cell_type": "markdown",
   "metadata": {},
   "source": [
    "__Conclusión__"
   ]
  },
  {
   "cell_type": "markdown",
   "metadata": {},
   "source": [
    "Probando con varias tasas de aprendizaje y con varias iteraciones (aunque sólo parezca una graficada), se ha comprobado que ya no merece la pena continuar, habiendo por lo tanto, encontrado el mínimo de esta función en torno a 0.2."
   ]
  },
  {
   "cell_type": "markdown",
   "metadata": {},
   "source": [
    "Como último paso, realizaré la prediccion con el valor óptimo de la función de coste que hemos obtenido:"
   ]
  },
  {
   "cell_type": "markdown",
   "metadata": {},
   "source": [
    "## 9. Predicción utilizando los valores óptimos obtenidos de la Función de Coste"
   ]
  },
  {
   "cell_type": "code",
   "execution_count": 195,
   "metadata": {},
   "outputs": [],
   "source": [
    "def prediccion(theta, x):\n",
    "    resultado = x.dot(theta)\n",
    "    return resultado > 0"
   ]
  },
  {
   "cell_type": "code",
   "execution_count": 196,
   "metadata": {},
   "outputs": [
    {
     "name": "stdout",
     "output_type": "stream",
     "text": [
      "Accuracy del entrenamiento: 89 %\n"
     ]
    }
   ],
   "source": [
    "p = prediccion(theta, X)\n",
    "print(\"Accuracy del entrenamiento:\", sum(p==y)[0],\"%\")"
   ]
  },
  {
   "cell_type": "markdown",
   "metadata": {},
   "source": [
    "Obtenemos un accuracy del 89%, lo cual está bastante bien. "
   ]
  },
  {
   "cell_type": "markdown",
   "metadata": {},
   "source": [
    "Aplicamos a un caso, para ver la probabilidad que tendría un alumno de ser aceptado:"
   ]
  },
  {
   "cell_type": "code",
   "execution_count": 201,
   "metadata": {},
   "outputs": [
    {
     "name": "stdout",
     "output_type": "stream",
     "text": [
      "Una persona con notas de 50 y 79 en los test tendrá una probabilidad de ser admitido del 0.74\n"
     ]
    }
   ],
   "source": [
    "test = np.array([50,79]) # una list formada por dos notas\n",
    "test = (test - media_notas)/std_notas \n",
    "# el resultado del test es las notas obenidas - media de las notas, entre la desviación típica\n",
    "test = np.append(np.ones(1), test)\n",
    "probability = funcion_logistica(test.dot(theta))\n",
    "print(\"Una persona con notas de 50 y 79 en los test tendrá una probabilidad de ser admitido del\",\n",
    "      np.round(probability[0], 2))"
   ]
  },
  {
   "cell_type": "markdown",
   "metadata": {},
   "source": [
    "#### Referencias"
   ]
  },
  {
   "cell_type": "markdown",
   "metadata": {},
   "source": [
    "-  https://www.cienciadedatos.net/documentos/27_regresion_logistica_simple_y_multiple#Anexos\n",
    "\n",
    "- https://github.com/lmntrixsid/Linear-and-Logistic-Regression-with-NumPy-and-Python/blob/master/Logistic_Regression_Completed.ipynb\n",
    "\n",
    "- https://www.coursera.org/lecture/deteccion-objetos/l2-4-b-regresion-logistica-aprendizaje-ii-b68uj"
   ]
  },
  {
   "cell_type": "markdown",
   "metadata": {},
   "source": [
    "## END"
   ]
  }
 ],
 "metadata": {
  "kernelspec": {
   "display_name": "grad_descent",
   "language": "python",
   "name": "grad_descent"
  },
  "language_info": {
   "codemirror_mode": {
    "name": "ipython",
    "version": 3
   },
   "file_extension": ".py",
   "mimetype": "text/x-python",
   "name": "python",
   "nbconvert_exporter": "python",
   "pygments_lexer": "ipython3",
   "version": "3.6.12"
  }
 },
 "nbformat": 4,
 "nbformat_minor": 4
}
